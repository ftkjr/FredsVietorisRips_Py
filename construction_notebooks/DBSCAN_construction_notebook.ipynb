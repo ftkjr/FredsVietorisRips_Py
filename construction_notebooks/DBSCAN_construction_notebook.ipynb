{
 "nbformat": 4,
 "nbformat_minor": 2,
 "metadata": {
  "language_info": {
   "name": "python",
   "codemirror_mode": {
    "name": "ipython",
    "version": 3
   },
   "version": "3.8.2-final"
  },
  "orig_nbformat": 2,
  "file_extension": ".py",
  "mimetype": "text/x-python",
  "name": "python",
  "npconvert_exporter": "python",
  "pygments_lexer": "ipython3",
  "version": 3,
  "kernelspec": {
   "name": "python3",
   "display_name": "Python 3"
  }
 },
 "cells": [
  {
   "cell_type": "code",
   "execution_count": 15,
   "metadata": {},
   "outputs": [],
   "source": [
    "def Euclideandist(x1, y1, x2, y2):\n",
    "  return ((x1 - x2) ** 2 + (y1 - y2) ** 2) ** (0.5)\n",
    "\n",
    "def PairwiseDistanceMatrix(x, y):\n",
    "    import numpy as np\n",
    "    n = len(x)\n",
    "    \n",
    "    distance_matrix = np.zeros((n, n))\n",
    "\n",
    "    for i in range(n):\n",
    "        for j in range(n):\n",
    "            distance_matrix[i, j] = Euclideandist(x[i], y[i], x[j], y[j])\n",
    "\n",
    "    return distance_matrix\n",
    "\n",
    "def AdjacencyMatrix(pairwise_distance_matrix, epsilon):\n",
    "    #import numpy as np\n",
    "    n = len(pairwise_distance_matrix)\n",
    "    adjacency_matrix = [[0 for i in range(n)] for j in range(n)]\n",
    "\n",
    "    for i in range(n):\n",
    "        for j in range(n):\n",
    "            if i == j :\n",
    "                adjacency_matrix[i, j] = 0\n",
    "            elif pairwise_distance_matrix[i, j] < epsilon:\n",
    "                adjacency_matrix[i, j] = 1\n",
    "            else:\n",
    "                adjacency_matrix[i, j] = 0\n",
    "    \n",
    "    return adjacency_matrix\n",
    "\n",
    "def find_starting_point(adjacency_matrix, minimum_connections):\n",
    "    # Note: Do not add point to traversed list it may be a sub_cluster point\n",
    "    out_of_cluster = []\n",
    "    i = 0  \n",
    "    while sum(adjacency_matrix[i]) < minimum_connections:\n",
    "        out_of_cluster.append(i)       # if the point doesnt meet the while condition, add it to the list of points not in a cluster\n",
    "        i+=1\n",
    "        if i == len(adjacency_matrix):\n",
    "            raise Exception('No point of the {} given met the minimum connection requirement. Consider reducing your minimum connections and try again.'.format(i))\n",
    "    return i, out_of_cluster           # Want point index and the list of points we know aren't in a cluster\n",
    "\n",
    "\n",
    ""
   ]
  },
  {
   "cell_type": "code",
   "execution_count": 46,
   "metadata": {},
   "outputs": [],
   "source": [
    "def get_cluster(adjacency_matrix, min_connections, untraversed_points):\n",
    "\n",
    "    ##############\n",
    "    # Initialize #\n",
    "    ##############\n",
    "\n",
    "    n = len(adjacency_matrix)                  # n by n matrix\n",
    "    cluster = []                               # List to store clustered points\n",
    "    sub_cluster = []                           # List to store points connected to clustered points,  but aren't in clusters themselves \n",
    "\n",
    "    ########################\n",
    "    # Find the first point #\n",
    "    ########################\n",
    "    # Start cluster with first point that meets cluster requirements\n",
    "    starting_point = find_starting_point(adjacency_matrix, min_connections)\n",
    "    cluster.append(starting_point)   \n",
    "    \n",
    "\n",
    "    ###############################################\n",
    "    # Begin the search for points in this cluster #\n",
    "    ###############################################\n",
    "\n",
    "    for point in cluster:                                                     # For points in our cluster list\n",
    "        for other_point in untraversed_points:                                #   Search through the points we haven't hit\n",
    "            if adjacency_matrix[point, other_point] == 1:                     #       if they are adjacent\n",
    "                untraversed_points.remove(other_point)                        #           remove them from the places we haven't hit\n",
    "                if sum(adjacency_matrix[other_point]) >= min_connections:     #           if they meet min connection requirement\n",
    "                    cluster.append(other_point)                               #               add it to cluster list\n",
    "                else:                                                         #           else our adjacent point doesn't meet req\n",
    "                    sub_cluster.append(other_point)                           #               so it's a subcluster point\n",
    "\n",
    "    ##########\n",
    "    # Return #\n",
    "    ##########\n",
    "\n",
    "    return cluster, untraversed_points\n",
    "    # The end"
   ]
  },
  {
   "cell_type": "code",
   "execution_count": 24,
   "metadata": {},
   "outputs": [
    {
     "output_type": "error",
     "ename": "TypeError",
     "evalue": "list indices must be integers or slices, not tuple",
     "traceback": [
      "\u001b[1;31m---------------------------------------------------------------------------\u001b[0m",
      "\u001b[1;31mTypeError\u001b[0m                                 Traceback (most recent call last)",
      "\u001b[1;32m<ipython-input-24-1afc9fb92cf0>\u001b[0m in \u001b[0;36m<module>\u001b[1;34m\u001b[0m\n\u001b[0;32m      5\u001b[0m \u001b[1;33m\u001b[0m\u001b[0m\n\u001b[0;32m      6\u001b[0m \u001b[0mdistmat\u001b[0m \u001b[1;33m=\u001b[0m \u001b[0mPairwiseDistanceMatrix\u001b[0m\u001b[1;33m(\u001b[0m\u001b[0mdf\u001b[0m\u001b[1;33m.\u001b[0m\u001b[0mx\u001b[0m\u001b[1;33m,\u001b[0m \u001b[0mdf\u001b[0m\u001b[1;33m.\u001b[0m\u001b[0my\u001b[0m\u001b[1;33m)\u001b[0m\u001b[1;33m\u001b[0m\u001b[1;33m\u001b[0m\u001b[0m\n\u001b[1;32m----> 7\u001b[1;33m \u001b[0madjmat\u001b[0m \u001b[1;33m=\u001b[0m \u001b[0mAdjacencyMatrix\u001b[0m\u001b[1;33m(\u001b[0m\u001b[0mdistmat\u001b[0m\u001b[1;33m,\u001b[0m \u001b[1;36m0.5\u001b[0m\u001b[1;33m)\u001b[0m\u001b[1;33m\u001b[0m\u001b[1;33m\u001b[0m\u001b[0m\n\u001b[0m\u001b[0;32m      8\u001b[0m \u001b[0muntraversed_points\u001b[0m \u001b[1;33m=\u001b[0m \u001b[1;33m[\u001b[0m\u001b[0mp\u001b[0m \u001b[1;32mfor\u001b[0m \u001b[0mp\u001b[0m \u001b[1;32min\u001b[0m \u001b[0mrange\u001b[0m\u001b[1;33m(\u001b[0m\u001b[0mlen\u001b[0m\u001b[1;33m(\u001b[0m\u001b[0mdf\u001b[0m\u001b[1;33m.\u001b[0m\u001b[0mx\u001b[0m\u001b[1;33m)\u001b[0m\u001b[1;33m)\u001b[0m\u001b[1;33m]\u001b[0m\u001b[1;33m\u001b[0m\u001b[1;33m\u001b[0m\u001b[0m\n",
      "\u001b[1;32m<ipython-input-15-e2f1902243c6>\u001b[0m in \u001b[0;36mAdjacencyMatrix\u001b[1;34m(pairwise_distance_matrix, epsilon)\u001b[0m\n\u001b[0;32m     22\u001b[0m         \u001b[1;32mfor\u001b[0m \u001b[0mj\u001b[0m \u001b[1;32min\u001b[0m \u001b[0mrange\u001b[0m\u001b[1;33m(\u001b[0m\u001b[0mn\u001b[0m\u001b[1;33m)\u001b[0m\u001b[1;33m:\u001b[0m\u001b[1;33m\u001b[0m\u001b[1;33m\u001b[0m\u001b[0m\n\u001b[0;32m     23\u001b[0m             \u001b[1;32mif\u001b[0m \u001b[0mi\u001b[0m \u001b[1;33m==\u001b[0m \u001b[0mj\u001b[0m \u001b[1;33m:\u001b[0m\u001b[1;33m\u001b[0m\u001b[1;33m\u001b[0m\u001b[0m\n\u001b[1;32m---> 24\u001b[1;33m                 \u001b[0madjacency_matrix\u001b[0m\u001b[1;33m[\u001b[0m\u001b[0mi\u001b[0m\u001b[1;33m,\u001b[0m \u001b[0mj\u001b[0m\u001b[1;33m]\u001b[0m \u001b[1;33m=\u001b[0m \u001b[1;36m0\u001b[0m\u001b[1;33m\u001b[0m\u001b[1;33m\u001b[0m\u001b[0m\n\u001b[0m\u001b[0;32m     25\u001b[0m             \u001b[1;32melif\u001b[0m \u001b[0mpairwise_distance_matrix\u001b[0m\u001b[1;33m[\u001b[0m\u001b[0mi\u001b[0m\u001b[1;33m,\u001b[0m \u001b[0mj\u001b[0m\u001b[1;33m]\u001b[0m \u001b[1;33m<\u001b[0m \u001b[0mepsilon\u001b[0m\u001b[1;33m:\u001b[0m\u001b[1;33m\u001b[0m\u001b[1;33m\u001b[0m\u001b[0m\n\u001b[0;32m     26\u001b[0m                 \u001b[0madjacency_matrix\u001b[0m\u001b[1;33m[\u001b[0m\u001b[0mi\u001b[0m\u001b[1;33m,\u001b[0m \u001b[0mj\u001b[0m\u001b[1;33m]\u001b[0m \u001b[1;33m=\u001b[0m \u001b[1;36m1\u001b[0m\u001b[1;33m\u001b[0m\u001b[1;33m\u001b[0m\u001b[0m\n",
      "\u001b[1;31mTypeError\u001b[0m: list indices must be integers or slices, not tuple"
     ]
    }
   ],
   "source": [
    "import pandas as pd\n",
    "df_original = pd.read_csv(\"../data/Clark_Sample_data.csv\", names=[\"x\", \"y\"])\n",
    "df = df_original.sample(n = 20)\n",
    "df.index = range(len(df.x))\n",
    "\n",
    "distmat = PairwiseDistanceMatrix(df.x, df.y)\n",
    "adjmat = AdjacencyMatrix(distmat, 0.5)\n",
    "untraversed_points = [p for p in range(len(df.x))]"
   ]
  },
  {
   "cell_type": "code",
   "execution_count": 41,
   "metadata": {},
   "outputs": [
    {
     "output_type": "execute_result",
     "data": {
      "text/plain": "array([[0., 0., 0., 0., 0., 0., 0., 0., 0., 0., 0., 0., 1., 0., 0., 0.,\n        0., 0., 0., 0.],\n       [0., 0., 1., 1., 1., 1., 1., 1., 1., 0., 0., 1., 0., 1., 0., 1.,\n        1., 1., 1., 1.],\n       [0., 1., 0., 1., 1., 1., 0., 0., 1., 0., 0., 1., 0., 0., 1., 1.,\n        1., 1., 1., 1.],\n       [0., 1., 1., 0., 1., 1., 0., 0., 1., 0., 0., 1., 0., 0., 1., 1.,\n        1., 1., 1., 1.],\n       [0., 1., 1., 1., 0., 1., 0., 1., 1., 1., 1., 0., 0., 1., 0., 1.,\n        1., 1., 1., 0.],\n       [0., 1., 1., 1., 1., 0., 0., 1., 1., 1., 1., 0., 0., 1., 0., 1.,\n        1., 1., 1., 0.],\n       [0., 1., 0., 0., 0., 0., 0., 0., 0., 0., 0., 1., 0., 0., 1., 1.,\n        0., 1., 0., 1.],\n       [0., 1., 0., 0., 1., 1., 0., 0., 0., 1., 0., 0., 0., 1., 0., 0.,\n        0., 0., 0., 0.],\n       [0., 1., 1., 1., 1., 1., 0., 0., 0., 0., 1., 1., 0., 1., 0., 1.,\n        1., 1., 1., 1.],\n       [0., 0., 0., 0., 1., 1., 0., 1., 0., 0., 1., 0., 0., 1., 0., 0.,\n        0., 0., 0., 0.],\n       [0., 0., 0., 0., 1., 1., 0., 0., 1., 1., 0., 0., 0., 1., 0., 0.,\n        1., 0., 1., 0.],\n       [0., 1., 1., 1., 0., 0., 1., 0., 1., 0., 0., 0., 0., 0., 1., 1.,\n        1., 1., 0., 1.],\n       [1., 0., 0., 0., 0., 0., 0., 0., 0., 0., 0., 0., 0., 0., 0., 0.,\n        0., 0., 0., 0.],\n       [0., 1., 0., 0., 1., 1., 0., 1., 1., 1., 1., 0., 0., 0., 0., 0.,\n        1., 0., 1., 0.],\n       [0., 0., 1., 1., 0., 0., 1., 0., 0., 0., 0., 1., 0., 0., 0., 1.,\n        0., 1., 0., 1.],\n       [0., 1., 1., 1., 1., 1., 1., 0., 1., 0., 0., 1., 0., 0., 1., 0.,\n        1., 1., 1., 1.],\n       [0., 1., 1., 1., 1., 1., 0., 0., 1., 0., 1., 1., 0., 1., 0., 1.,\n        0., 1., 1., 1.],\n       [0., 1., 1., 1., 1., 1., 1., 0., 1., 0., 0., 1., 0., 0., 1., 1.,\n        1., 0., 1., 1.],\n       [0., 1., 1., 1., 1., 1., 0., 0., 1., 0., 1., 0., 0., 1., 0., 1.,\n        1., 1., 0., 0.],\n       [0., 1., 1., 1., 0., 0., 1., 0., 1., 0., 0., 1., 0., 0., 1., 1.,\n        1., 1., 0., 0.]])"
     },
     "metadata": {},
     "execution_count": 41
    }
   ],
   "source": [
    "adjmat"
   ]
  },
  {
   "cell_type": "code",
   "execution_count": 47,
   "metadata": {},
   "outputs": [
    {
     "output_type": "error",
     "ename": "IndexError",
     "evalue": "only integers, slices (`:`), ellipsis (`...`), numpy.newaxis (`None`) and integer or boolean arrays are valid indices",
     "traceback": [
      "\u001b[1;31m---------------------------------------------------------------------------\u001b[0m",
      "\u001b[1;31mIndexError\u001b[0m                                Traceback (most recent call last)",
      "\u001b[1;32m<ipython-input-47-4b2acc5090bf>\u001b[0m in \u001b[0;36m<module>\u001b[1;34m\u001b[0m\n\u001b[1;32m----> 1\u001b[1;33m \u001b[0mget_cluster\u001b[0m\u001b[1;33m(\u001b[0m\u001b[0madjmat\u001b[0m\u001b[1;33m,\u001b[0m \u001b[1;36m4\u001b[0m\u001b[1;33m,\u001b[0m \u001b[0muntraversed_points\u001b[0m\u001b[1;33m)\u001b[0m\u001b[1;33m\u001b[0m\u001b[1;33m\u001b[0m\u001b[0m\n\u001b[0m",
      "\u001b[1;32m<ipython-input-46-6fc35a6df2bd>\u001b[0m in \u001b[0;36mget_cluster\u001b[1;34m(adjacency_matrix, min_connections, untraversed_points)\u001b[0m\n\u001b[0;32m     23\u001b[0m     \u001b[1;32mfor\u001b[0m \u001b[0mpoint\u001b[0m \u001b[1;32min\u001b[0m \u001b[0mcluster\u001b[0m\u001b[1;33m:\u001b[0m                                                     \u001b[1;31m# For points in our cluster list\u001b[0m\u001b[1;33m\u001b[0m\u001b[1;33m\u001b[0m\u001b[0m\n\u001b[0;32m     24\u001b[0m         \u001b[1;32mfor\u001b[0m \u001b[0mother_point\u001b[0m \u001b[1;32min\u001b[0m \u001b[0muntraversed_points\u001b[0m\u001b[1;33m:\u001b[0m                                \u001b[1;31m#   Search through the points we haven't hit\u001b[0m\u001b[1;33m\u001b[0m\u001b[1;33m\u001b[0m\u001b[0m\n\u001b[1;32m---> 25\u001b[1;33m             \u001b[1;32mif\u001b[0m \u001b[0mnp\u001b[0m\u001b[1;33m.\u001b[0m\u001b[0masarray\u001b[0m\u001b[1;33m(\u001b[0m\u001b[0madjacency_matrix\u001b[0m\u001b[1;33m)\u001b[0m\u001b[1;33m[\u001b[0m\u001b[0mpoint\u001b[0m\u001b[1;33m,\u001b[0m \u001b[0mother_point\u001b[0m\u001b[1;33m]\u001b[0m \u001b[1;33m==\u001b[0m \u001b[1;36m1\u001b[0m\u001b[1;33m:\u001b[0m                     \u001b[1;31m#       if they are adjacent\u001b[0m\u001b[1;33m\u001b[0m\u001b[1;33m\u001b[0m\u001b[0m\n\u001b[0m\u001b[0;32m     26\u001b[0m                 \u001b[0muntraversed_points\u001b[0m\u001b[1;33m.\u001b[0m\u001b[0mremove\u001b[0m\u001b[1;33m(\u001b[0m\u001b[0mother_point\u001b[0m\u001b[1;33m)\u001b[0m                        \u001b[1;31m#           remove them from the places we haven't hit\u001b[0m\u001b[1;33m\u001b[0m\u001b[1;33m\u001b[0m\u001b[0m\n\u001b[0;32m     27\u001b[0m                 \u001b[1;32mif\u001b[0m \u001b[0msum\u001b[0m\u001b[1;33m(\u001b[0m\u001b[0madjacency_matrix\u001b[0m\u001b[1;33m[\u001b[0m\u001b[0mother_point\u001b[0m\u001b[1;33m]\u001b[0m\u001b[1;33m)\u001b[0m \u001b[1;33m>=\u001b[0m \u001b[0mmin_connections\u001b[0m\u001b[1;33m:\u001b[0m     \u001b[1;31m#           if they meet min connection requirement\u001b[0m\u001b[1;33m\u001b[0m\u001b[1;33m\u001b[0m\u001b[0m\n",
      "\u001b[1;31mIndexError\u001b[0m: only integers, slices (`:`), ellipsis (`...`), numpy.newaxis (`None`) and integer or boolean arrays are valid indices"
     ]
    }
   ],
   "source": [
    "get_cluster(adjmat, 4, untraversed_points)"
   ]
  },
  {
   "cell_type": "code",
   "execution_count": 14,
   "metadata": {},
   "outputs": [
    {
     "output_type": "execute_result",
     "data": {
      "text/plain": "[[0, 0, 0, 0], [0, 0, 0, 0], [0, 0, 0, 0], [0, 0, 0, 0]]"
     },
     "metadata": {},
     "execution_count": 14
    }
   ],
   "source": [
    "m = [[0 for i in range(n)] for j in range(n)]\n",
    "m"
   ]
  },
  {
   "cell_type": "code",
   "execution_count": 28,
   "metadata": {},
   "outputs": [
    {
     "output_type": "error",
     "ename": "NameError",
     "evalue": "name 'point' is not defined",
     "traceback": [
      "\u001b[1;31m---------------------------------------------------------------------------\u001b[0m",
      "\u001b[1;31mNameError\u001b[0m                                 Traceback (most recent call last)",
      "\u001b[1;32m<ipython-input-28-6a7a3264e47e>\u001b[0m in \u001b[0;36m<module>\u001b[1;34m\u001b[0m\n\u001b[1;32m----> 1\u001b[1;33m \u001b[0mpoint\u001b[0m\u001b[1;33m\u001b[0m\u001b[1;33m\u001b[0m\u001b[0m\n\u001b[0m",
      "\u001b[1;31mNameError\u001b[0m: name 'point' is not defined"
     ]
    }
   ],
   "source": []
  }
 ]
}