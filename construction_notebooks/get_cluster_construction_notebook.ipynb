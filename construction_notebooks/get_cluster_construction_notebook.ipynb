{
 "nbformat": 4,
 "nbformat_minor": 2,
 "metadata": {
  "language_info": {
   "name": "python",
   "codemirror_mode": {
    "name": "ipython",
    "version": 3
   },
   "version": "3.8.2-final"
  },
  "orig_nbformat": 2,
  "file_extension": ".py",
  "mimetype": "text/x-python",
  "name": "python",
  "npconvert_exporter": "python",
  "pygments_lexer": "ipython3",
  "version": 3,
  "kernelspec": {
   "name": "python3",
   "display_name": "Python 3"
  }
 },
 "cells": [
  {
   "cell_type": "code",
   "execution_count": 42,
   "metadata": {},
   "outputs": [],
   "source": [
    "import numpy as np\n",
    "import pandas as pd"
   ]
  },
  {
   "cell_type": "code",
   "execution_count": 195,
   "metadata": {},
   "outputs": [],
   "source": [
    "def Euclideandist(x1, y1, x2, y2):\n",
    "  return ((x1 - x2) ** 2 + (y1 - y2) ** 2) ** (0.5)"
   ]
  },
  {
   "cell_type": "code",
   "execution_count": 196,
   "metadata": {},
   "outputs": [],
   "source": [
    "def PairwiseDistanceMatrix(x, y):\n",
    "    import numpy as np\n",
    "    n = len(x)\n",
    "    \n",
    "    distance_matrix = np.zeros((n, n))\n",
    "\n",
    "    for i in range(n):\n",
    "        for j in range(n):\n",
    "            distance_matrix[i, j] = Euclideandist(x[i], y[i], x[j], y[j])\n",
    "\n",
    "    return distance_matrix\n",
    ""
   ]
  },
  {
   "cell_type": "code",
   "execution_count": 294,
   "metadata": {},
   "outputs": [],
   "source": [
    "def AdjacencyMatrix(pairwise_distance_matrix, epsilon):\n",
    "    import numpy as np\n",
    "    n = len(pairwise_distance_matrix)\n",
    "    adjacency_matrix = np.zeros((n,n))\n",
    "\n",
    "    for i in range(n):\n",
    "        for j in range(n):\n",
    "            if i == j :\n",
    "                adjacency_matrix[i, j] = 0\n",
    "            elif pairwise_distance_matrix[i, j] < epsilon:\n",
    "                adjacency_matrix[i, j] = 1\n",
    "            else:\n",
    "                adjacency_matrix[i, j] = 0\n",
    "    \n",
    "    return adjacency_matrix"
   ]
  },
  {
   "cell_type": "code",
   "execution_count": 142,
   "metadata": {},
   "outputs": [],
   "source": [
    "def get_clusters(adjacency_matrix, min_connections):\n",
    "    adjmat_size = len(adjacency_matrix)\n",
    "    cluster = []\n",
    "    for i in range(adjmat_size):\n",
    "        if sum(adjacency_matrix[i]) >= min_connections:\n",
    "            cluster.append(i)\n",
    "        for j in range(adjmat_size): \n",
    "            if adjacency_matrix[i, j] == 1:\n",
    "                cluster.append(j)\n",
    "        cluster = list(set(cluster))\n",
    "    return cluster\n",
    "\n"
   ]
  },
  {
   "cell_type": "code",
   "execution_count": 210,
   "metadata": {},
   "outputs": [],
   "source": [
    "def find_starting_point(adjacency_matrix, minimum_connections):\n",
    "    # Note: Do not add point to traversed list it may be a sub_cluster point\n",
    "    out_of_cluster = []\n",
    "    i = 0  \n",
    "    while sum(adjacency_matrix[i]) < minimum_connections:\n",
    "        out_of_cluster.append(i)       # if the point doesnt meet the while condition, add it to the list of points not in a cluster\n",
    "        i+=1\n",
    "        if i == len(adjacency_matrix):\n",
    "            raise Exception('No point of the {} given met the minimum connection requirement. Consider reducing your minimum connections and try again.'.format(i))\n",
    "    return i, out_of_cluster           # Want point index and the list of points we know aren't in a cluster\n",
    ""
   ]
  },
  {
   "cell_type": "code",
   "execution_count": 444,
   "metadata": {},
   "outputs": [
    {
     "output_type": "stream",
     "name": "stdout",
     "text": "Point 3 has 5.0 connections.\nPoint 5 has 4.0 connections.\nPoint 6 has 5.0 connections.\nPoint 10 has 4.0 connections.\nPoint 11 has 5.0 connections.\nPoint 13 has 6.0 connections.\nPoint 16 has 6.0 connections.\nPoint 17 has 5.0 connections.\nPoint 18 has 5.0 connections.\n"
    }
   ],
   "source": [
    "df_original = pd.read_csv(\"data/Clark_Sample_data.csv\", names=[\"x\", \"y\"])\n",
    "df = df_original.sample(n = 20)\n",
    "df.index = range(len(df.x))\n",
    "\n",
    "distmat = PairwiseDistanceMatrix(df.x, df.y)\n",
    "adjmat = AdjacencyMatrix(distmat, 0.25)\n",
    "for ind in range(n):\n",
    "    if sum(adjmat[ind]) >= min_connections:\n",
    "        print(\"Point\", ind, \"has\", sum(adjmat[ind]), \"connections.\")"
   ]
  },
  {
   "cell_type": "code",
   "execution_count": 470,
   "metadata": {
    "tags": [
     "outputPrepend",
     "outputPrepend",
     "outputPrepend",
     "outputPrepend",
     "outputPrepend",
     "outputPrepend",
     "outputPrepend",
     "outputPrepend",
     "outputPrepend",
     "outputPrepend",
     "outputPrepend",
     "outputPrepend",
     "outputPrepend",
     "outputPrepend",
     "outputPrepend",
     "outputPrepend",
     "outputPrepend",
     "outputPrepend",
     "outputPrepend",
     "outputPrepend",
     "outputPrepend"
    ]
   },
   "outputs": [
    {
     "output_type": "stream",
     "name": "stdout",
     "text": "Starting point: 3\nexceeds min connections by: 1.0\nFirst Cluster Point: [3]\ncluster [3, 6, 11, 13, 16, 18, 3]\nsub [19]\nout [0, 1, 2]\nun [0, 1, 2, 4, 5, 7, 8, 9, 10, 12, 14, 15, 17]\n"
    }
   ],
   "source": [
    "######################\n",
    "# params\n",
    "min_connections = 4\n",
    "\n",
    "#######################################################\n",
    "# Initialize #\n",
    "##############\n",
    "\n",
    "n = len(adjmat)         # n by n matrix\n",
    "cluster = []            # List to store clustered points\n",
    "sub_cluster =[]         # List to store points connected to clustered points,  but aren't in clusters themselves \n",
    "untraversed_points = [p for p in range(n)] # Where haven't we been?\n",
    "#########################################################\n",
    "####################################################################\n",
    "# Find the first point #\n",
    "########################\n",
    "i= find_starting_point(adjmat, min_connections)\n",
    "# Start cluster with first point that meets cluster requirements\n",
    "cluster.append(i)   \n",
    "####################################################################\n",
    "\n",
    "print(\"Starting point:\", i)\n",
    "print(\"exceeds min connections by:\", -1 * (min_connections - sum(adjmat[i])))\n",
    "print(\"First Cluster Point:\", cluster)\n",
    "\n",
    "###############################################\n",
    "# Begin the search for points in this cluster #\n",
    "###############################################\n",
    "\n",
    "for point in cluster:                                                           # For points in our cluster list\n",
    "    for other_point in untraversed_points:                                      #   Search through the points we haven't hit\n",
    "        if adjmat[point, other_point] == 1:                                     #       if they are adjacent\n",
    "            untraversed_points.remove(other_point)                              #           remove them from the places we haven't hit\n",
    "            if sum(adjmat[other_point]) >= min_connections:                     #           if they meet min connection requirement\n",
    "                cluster.append(other_point)                                     #               add it to cluster list\n",
    "            else:                                                               #           else our adjacent point doesn't meet req\n",
    "                sub_cluster.append(other_point)                                 #               so it's a subcluster point\n",
    "\n",
    "\n",
    "print(\"cluster\", cluster)\n",
    "print(\"sub\", sub_cluster)\n",
    "print(\"out\", out_of_cluster)\n",
    "print(\"un\", untraversed_points)\n",
    "\n",
    "\n",
    "\n",
    "\n"
   ]
  },
  {
   "cell_type": "code",
   "execution_count": null,
   "metadata": {},
   "outputs": [],
   "source": [
    "###############################################################################################\n",
    "# Deal with \"bad\" points first\n",
    "    if point in sub_cluster:\n",
    "        print(\"a\")\n",
    "        continue\n",
    "    elif point in out_of_cluster:           # if we hit a connected point we already know doesn't meet the requirements\n",
    "        #sub_cluster.append(point)\n",
    "        print(\"b\")         #     add it to the sub_cluster list\n",
    "        continue\n",
    "    if sum(adjmat[point]) < min_connections:   \n",
    "        print(\"c\") # if a new point doesn't meet the connection requirements \n",
    "        #sub_cluster.append(point)         #     add it to the sub_cluster list\n",
    "        #out_of_cluster.append(point)\n",
    "        continue\n",
    "################################################################################################\n",
    "        for other_point in range(n):                        # Check through all the other points\n",
    "            if adjmat[point, other_point] == 1:                 #    If the two points are connected\n",
    "                traversed_points.append(other_point)                  #      add the other point to the list of points we've hit\n",
    "                print(other_point)\n",
    "\n",
    "if other_point in sub_cluster:\n",
    "                    continue\n",
    "                elif other_point in out_of_cluster:\n",
    "                    sub_cluster.append(other_point)\n",
    "                elif sum(adjmat[other_point]) < min_connections:\n",
    "                    out_of_cluster.append(other_point)\n",
    "                    \n",
    "                else:\n",
    "                    cluster.append(other_point)"
   ]
  },
  {
   "cell_type": "code",
   "execution_count": 374,
   "metadata": {},
   "outputs": [
    {
     "output_type": "stream",
     "name": "stdout",
     "text": "cluster [1, 3, 9]\nsub [6, 2, 4]\ntraversed [1, 2, 9]\nout [6, 0, 5, 2, 4, 7, 8]\n"
    }
   ],
   "source": [
    "cluster = [1, 2, 3, 4, 6, 9]\n",
    "out_of_cluster = [6]\n",
    "sub_cluster = []\n",
    "traversed_points = []\n",
    "for point in cluster:\n",
    "    traversed_points.append(point)\n",
    "    if point in sub_cluster:\n",
    "        continue\n",
    "    elif point in out_of_cluster:\n",
    "        sub_cluster.append(point)\n",
    "    elif sum(adjmat[point]) < min_connections:\n",
    "        out_of_cluster.append(point)\n",
    "        sub_cluster.append(point)\n",
    "    for other_point in range(n):\n",
    "        if adjmat[point, other_point] == 1:\n",
    "            traversed_points.append(point)\n",
    "            if other_point in sub_cluster:\n",
    "                continue\n",
    "            elif other_point in out_of_cluster:\n",
    "                sub_cluster.append(other_point)\n",
    "            elif sum(adjmat[other_point]) < min_connections:\n",
    "                out_of_cluster.append(other_point)\n",
    "        #print(point, other_point)\n",
    "    traversed_points = list(set(traversed_points))\n",
    "    cluster[:] = [p for p in cluster if p not in out_of_cluster]\n",
    "print(\"cluster\", cluster)\n",
    "print(\"sub\", sub_cluster)\n",
    "print(\"traversed\", traversed_points)\n",
    "print(\"out\", out_of_cluster)"
   ]
  },
  {
   "cell_type": "code",
   "execution_count": 302,
   "metadata": {
    "tags": [
     "outputPrepend",
     "outputPrepend",
     "outputPrepend",
     "outputPrepend",
     "outputPrepend",
     "outputPrepend",
     "outputPrepend",
     "outputPrepend",
     "outputPrepend",
     "outputPrepend",
     "outputPrepend",
     "outputPrepend",
     "outputPrepend",
     "outputPrepend",
     "outputPrepend",
     "outputPrepend",
     "outputPrepend",
     "outputPrepend",
     "outputPrepend",
     "outputPrepend",
     "outputPrepend",
     "outputPrepend",
     "outputPrepend",
     "outputPrepend",
     "outputPrepend",
     "outputPrepend",
     "outputPrepend",
     "outputPrepend",
     "outputPrepend",
     "outputPrepend",
     "outputPrepend",
     "outputPrepend",
     "outputPrepend",
     "outputPrepend",
     "outputPrepend",
     "outputPrepend",
     "outputPrepend",
     "outputPrepend",
     "outputPrepend",
     "outputPrepend",
     "outputPrepend",
     "outputPrepend",
     "outputPrepend",
     "outputPrepend",
     "outputPrepend",
     "outputPrepend",
     "outputPrepend",
     "outputPrepend",
     "outputPrepend",
     "outputPrepend",
     "outputPrepend"
    ]
   },
   "outputs": [
    {
     "output_type": "error",
     "ename": "KeyboardInterrupt",
     "evalue": "",
     "traceback": [
      "\u001b[1;31m---------------------------------------------------------------------------\u001b[0m",
      "\u001b[1;31mKeyboardInterrupt\u001b[0m                         Traceback (most recent call last)",
      "\u001b[1;32m<ipython-input-302-755ac5ee4f7a>\u001b[0m in \u001b[0;36m<module>\u001b[1;34m\u001b[0m\n\u001b[0;32m     10\u001b[0m \u001b[1;33m\u001b[0m\u001b[0m\n\u001b[0;32m     11\u001b[0m \u001b[1;33m\u001b[0m\u001b[0m\n\u001b[1;32m---> 12\u001b[1;33m         \u001b[1;32mfor\u001b[0m \u001b[0mother_point\u001b[0m \u001b[1;32min\u001b[0m \u001b[0mrange\u001b[0m\u001b[1;33m(\u001b[0m\u001b[0mn\u001b[0m\u001b[1;33m)\u001b[0m\u001b[1;33m:\u001b[0m\u001b[1;33m\u001b[0m\u001b[1;33m\u001b[0m\u001b[0m\n\u001b[0m\u001b[0;32m     13\u001b[0m             \u001b[1;32mif\u001b[0m \u001b[0mother_point\u001b[0m \u001b[1;32min\u001b[0m \u001b[0mout_of_cluster\u001b[0m\u001b[1;33m:\u001b[0m\u001b[1;33m\u001b[0m\u001b[1;33m\u001b[0m\u001b[0m\n\u001b[0;32m     14\u001b[0m                 \u001b[1;32mcontinue\u001b[0m\u001b[1;33m\u001b[0m\u001b[1;33m\u001b[0m\u001b[0m\n",
      "\u001b[1;31mKeyboardInterrupt\u001b[0m: "
     ]
    }
   ],
   "source": [
    "\n",
    "while len(cluster) < len(adjmat):\n",
    "    for point in cluster:\n",
    "        if point in out_of_cluster:\n",
    "            cluster.remove(point)\n",
    "            sub_cluster.append(point)\n",
    "        elif sum(adjmat[point]) < min_connections:\n",
    "            cluster.remove(point)\n",
    "            sub_cluster.append(point)\n",
    "            traversed_points.append(point)\n",
    "\n",
    "            \n",
    "        for other_point in range(n):\n",
    "            if other_point in out_of_cluster:\n",
    "                continue\n",
    "            elif other_point in sub_cluster:\n",
    "                continue\n",
    "            elif other_point in traversed_points:\n",
    "                continue\n",
    "            elif adjmat[point, other_point] == 1:\n",
    "                traversed_points.append(other_point)\n",
    "                if sum(adjmat[other_point]) < min_connections:\n",
    "                    out_of_cluster.append(other_point)\n",
    "                    sub_cluster.append(other_point)\n",
    "                elif sum(adjmat[other_point]) >= min_connections:            #      if it meets our requirements \n",
    "                        cluster.append(other_point)                            #         add it to our cluster list     print(point, other_point)"
   ]
  },
  {
   "cell_type": "code",
   "execution_count": null,
   "metadata": {},
   "outputs": [],
   "source": []
  }
 ]
}